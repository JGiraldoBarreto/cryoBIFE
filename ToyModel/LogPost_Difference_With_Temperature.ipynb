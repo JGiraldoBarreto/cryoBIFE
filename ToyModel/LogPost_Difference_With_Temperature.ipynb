{
 "cells": [
  {
   "cell_type": "code",
   "execution_count": 1,
   "id": "c37782a0",
   "metadata": {},
   "outputs": [],
   "source": [
    "import numpy as np\n",
    "import scipy.optimize as so\n",
    "import matplotlib.pyplot as plt\n",
    "from cryoBIFE import neglogpost_cryobife, normal_prior\n",
    "from cryoBIFE.Generate_Gaussian_Images_Toymodel import sample_grid_data\n",
    "from tqdm import tqdm"
   ]
  },
  {
   "cell_type": "code",
   "execution_count": 2,
   "id": "ff35d9f8",
   "metadata": {},
   "outputs": [],
   "source": [
    "def get_optimal_string_fe(posterior_matrix, log_prior_fxn, kappa=1.0):\n",
    "    number_of_nodes = posterior_matrix.shape[1]\n",
    "    G_init = 1.0 * np.random.randn(number_of_nodes)  # Initial free energy differences\n",
    "    G_op = so.minimize(neglogpost_cryobife, G_init, method='L-BFGS-B', args=(kappa, posterior_matrix, log_prior_fxn))\n",
    "    assert(G_op.success)\n",
    "    optimal_string_fe = G_op.x\n",
    "    optimal_logpost = -1 * G_op.fun\n",
    "    return optimal_string_fe, optimal_logpost"
   ]
  },
  {
   "cell_type": "code",
   "execution_count": 7,
   "id": "75fc41f1",
   "metadata": {},
   "outputs": [
    {
     "name": "stderr",
     "output_type": "stream",
     "text": [
      "100%|██████████████████████████████████████████████████████████████████████████████████████████████████████████████████████████████████████████████████████████████████████████████| 29/29 [00:40<00:00,  1.39s/it]\n"
     ]
    }
   ],
   "source": [
    "kappa = 0.0\n",
    "dT = 0.5\n",
    "inverse_Ts = np.arange(1, 15 + dT, dT)\n",
    "\n",
    "black_logposts = []\n",
    "orange_logposts = []\n",
    "\n",
    "for inv_T in tqdm(inverse_Ts):\n",
    "    grid_info, black_info, orange_info = sample_grid_data(inverse_T=inv_T, N_total = 10000)\n",
    "    coords, Grid, Num_images = grid_info\n",
    "#     print(len(coords))\n",
    "    black, Post_Matrix_black = black_info\n",
    "    orange, Post_Matrix_orange = orange_info\n",
    "    black_fe, black_logpost = get_optimal_string_fe(Post_Matrix_black, normal_prior, kappa=kappa)\n",
    "    orange_fe, orange_logpost = get_optimal_string_fe(Post_Matrix_orange, normal_prior, kappa=kappa)\n",
    "    black_logposts.append(black_logpost)\n",
    "    orange_logposts.append(orange_logpost)"
   ]
  },
  {
   "cell_type": "code",
   "execution_count": 8,
   "id": "d683208c",
   "metadata": {},
   "outputs": [
    {
     "data": {
      "text/plain": [
       "Text(0, 0.5, 'LogPost Black - LogPost Orange')"
      ]
     },
     "execution_count": 8,
     "metadata": {},
     "output_type": "execute_result"
    },
    {
     "data": {
      "image/png": "[encoded data removed]",
      "text/plain": [
       "<Figure size 432x288 with 1 Axes>"
      ]
     },
     "metadata": {
      "needs_background": "light"
     },
     "output_type": "display_data"
    }
   ],
   "source": [
    "logpost_diff = np.array(black_logposts) - np.array(orange_logposts)\n",
    "\n",
    "plt.plot(inverse_Ts, logpost_diff, marker='.')\n",
    "plt.axhline(0, color='k', linestyle=\":\")\n",
    "plt.xlabel(\"Inverse Temperature\")\n",
    "plt.ylabel(\"LogPost Black - LogPost Orange\")"
   ]
  },
  {
   "cell_type": "code",
   "execution_count": null,
   "id": "3a854246",
   "metadata": {},
   "outputs": [],
   "source": []
  }
 ],
 "metadata": {
  "kernelspec": {
   "display_name": "Python 3 (ipykernel)",
   "language": "python",
   "name": "python3"
  },
  "language_info": {
   "codemirror_mode": {
    "name": "ipython",
    "version": 3
   },
   "file_extension": ".py",
   "mimetype": "text/x-python",
   "name": "python",
   "nbconvert_exporter": "python",
   "pygments_lexer": "ipython3",
   "version": "3.9.2"
  }
 },
 "nbformat": 4,
 "nbformat_minor": 5
}
