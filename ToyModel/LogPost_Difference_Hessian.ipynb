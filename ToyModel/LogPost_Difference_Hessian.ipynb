{
 "cells": [
  {
   "cell_type": "code",
   "execution_count": 1,
   "id": "3b4b1121",
   "metadata": {},
   "outputs": [],
   "source": [
    "import numpy as np\n",
    "import scipy.optimize as so\n",
    "import matplotlib.pyplot as plt\n",
    "from cryoBIFE import neglogpost_cryobife, normal_prior\n",
    "from cryoBIFE.Generate_Gaussian_Images_Toymodel import sample_grid_data, get_num_images\n",
    "from tqdm import tqdm\n",
    "import scipy.linalg as spl"
   ]
  },
  {
   "cell_type": "code",
   "execution_count": 2,
   "id": "0e948024",
   "metadata": {},
   "outputs": [],
   "source": [
    "def get_optimal_string_fe(posterior_matrix, log_prior_fxn, kappa=1.0):\n",
    "    number_of_nodes = posterior_matrix.shape[1]\n",
    "    G_init = 0.5 * np.random.randn(number_of_nodes)# Initial free energy differences\n",
    "    G_op = so.minimize(neglogpost_cryobife, G_init, method='L-BFGS-B', args=(kappa, posterior_matrix))\n",
    "    # Second optimization using Conjugate Gradients\n",
    "    G_op = so.minimize(neglogpost_cryobife, G_op.x, method='CG', args=(kappa, posterior_matrix, log_prior_fxn))\n",
    "    print(G_op.message)\n",
    "    print('Jacobian', G_op.jac)\n",
    "    print(\"X value:\", G_op.x)\n",
    "#     assert(G_op.success)\n",
    "\n",
    "    optimal_string_fe = G_op.x\n",
    "    optimal_logpost = -1 * G_op.fun\n",
    "    return optimal_string_fe, optimal_logpost\n",
    "\n",
    "\n",
    "\n",
    "def histogram_raw_data(coords):\n",
    "    y = coords[:, 0]\n",
    "    x = coords[:, 1]\n",
    "    print(np.min(x), np.max(x))\n",
    "    print(np.min(y), np.max(y))\n",
    "\n",
    "    hist, xedges, yedges = np.histogram2d(x, y, bins=100, range=((-5, 25), (-5, 25)))\n",
    "\n",
    "    plt.imshow(hist.T, interpolation='nearest', origin='lower',\n",
    "               extent=[xedges[0], xedges[-1], yedges[0], yedges[-1]])\n",
    "\n",
    "    plt.show()\n",
    "    \n",
    "def gradient_f(x, f):\n",
    "    assert (x.shape[0] >= x.shape[1]), \"the vector should be a column vector\"\n",
    "    x = x.astype(float)\n",
    "    N = x.shape[0]\n",
    "    gradient = []\n",
    "    for i in range(N):\n",
    "        eps = abs(x[i]) *  np.finfo(np.float32).eps \n",
    "        xx0 = 1. * x[i]\n",
    "        f0 = f(x)\n",
    "        x[i] = x[i] + eps\n",
    "        f1 = f(x)\n",
    "        gradient.append(np.asscalar(np.array([f1 - f0]))/eps)\n",
    "        x[i] = xx0\n",
    "    return np.array(gradient).reshape(x.shape)\n",
    "\n",
    "#Hessian Matrix\n",
    "def hessian(x, the_func):\n",
    "    print(x.shape)\n",
    "    N = x.shape[0]\n",
    "    hessian = np.zeros((N,N)) \n",
    "    gd_0 = gradient_f( x, the_func)\n",
    "    eps = np.linalg.norm(gd_0) * np.finfo(np.float32).eps \n",
    "    for i in range(N):\n",
    "        xx0 = 1.*x[i]\n",
    "        x[i] = xx0 + eps\n",
    "        gd_1 =  gradient_f(x, the_func)\n",
    "        hessian[:,i] = ((gd_1 - gd_0)/eps).reshape(x.shape[0])\n",
    "        x[i] =xx0\n",
    "    return hessian\n"
   ]
  },
  {
   "cell_type": "code",
   "execution_count": 3,
   "id": "6c69a485",
   "metadata": {},
   "outputs": [
    {
     "name": "stdout",
     "output_type": "stream",
     "text": [
      "Desired error not necessarily achieved due to precision loss.\n",
      "Jacobian [-0.00048828  0.00048828  0.00048828  0.          0.00048828  0.\n",
      "  0.          0.          0.          0.          0.          0.00048828\n",
      " -0.00048828  0.00048828]\n",
      "X value: [-2.16230926 -0.34070096 -0.88802769  0.29446779  0.29994317  0.57185983\n",
      "  1.78326991 -1.24085647  1.57396976  0.04000472  0.37984695 -0.01057623\n",
      " -0.23441216 -1.82359884]\n",
      "(14, 1)\n"
     ]
    },
    {
     "name": "stderr",
     "output_type": "stream",
     "text": [
      "/tmp/ipykernel_91714/3831066385.py:42: DeprecationWarning: np.asscalar(a) is deprecated since NumPy v1.16, use a.item() instead\n",
      "  gradient.append(np.asscalar(np.array([f1 - f0]))/eps)\n"
     ]
    }
   ],
   "source": [
    "kappa = 1.0\n",
    "dT = 1.\n",
    "inv_T = 3.\n",
    "\n",
    "N_total = 10000\n",
    "\n",
    "def flat_prior(x):\n",
    "    return 0\n",
    "\n",
    "grid_info, black_info, orange_info = sample_grid_data(inverse_T=inv_T, N_total = N_total, sigma=1.0)\n",
    "coords, Grid, Num_images = grid_info\n",
    "#     print(len(coords))\n",
    "black, Post_Matrix_black = black_info\n",
    "black_fe, black_logpost = get_optimal_string_fe(Post_Matrix_black, normal_prior, kappa=kappa)\n",
    "\n",
    "def opt_fxn(x):\n",
    "    return neglogpost_cryobife(x.ravel(), kappa, Post_Matrix_black, normal_prior)\n",
    "\n",
    "#     print(black_logpost, opt_fxn(black_fe.reshape(-1, 1)))\n",
    "\n",
    "grad = gradient_f(black_fe.reshape(-1, 1), opt_fxn)\n",
    "bhess = hessian(black_fe.reshape(-1, 1), opt_fxn)"
   ]
  },
  {
   "cell_type": "code",
   "execution_count": 4,
   "id": "2607da6e",
   "metadata": {},
   "outputs": [
    {
     "name": "stderr",
     "output_type": "stream",
     "text": [
      "/home/erik/miniconda3/envs/cryoem/lib/python3.9/site-packages/numpy/core/_asarray.py:102: ComplexWarning: Casting complex values to real discards the imaginary part\n",
      "  return array(a, dtype, copy=False, order=order)\n"
     ]
    },
    {
     "data": {
      "text/plain": [
       "Text(0.5, 0, 'Index')"
      ]
     },
     "execution_count": 4,
     "metadata": {},
     "output_type": "execute_result"
    },
    {
     "data": {
      "image/png": "[encoded data removed]",
      "text/plain": [
       "<Figure size 432x288 with 1 Axes>"
      ]
     },
     "metadata": {
      "needs_background": "light"
     },
     "output_type": "display_data"
    }
   ],
   "source": [
    "evals, evecs = spl.eig(bhess + bhess.T)\n",
    "plt.plot(evals)\n",
    "plt.ylabel('Hessian eigenvalue')\n",
    "plt.xlabel(\"Index\")\n"
   ]
  },
  {
   "cell_type": "code",
   "execution_count": 5,
   "id": "1f43a470",
   "metadata": {},
   "outputs": [
    {
     "name": "stderr",
     "output_type": "stream",
     "text": [
      "/tmp/ipykernel_91714/2515786075.py:3: RuntimeWarning: divide by zero encountered in log\n",
      "  true_fe = -np.log(num_images)\n"
     ]
    },
    {
     "data": {
      "text/plain": [
       "<matplotlib.legend.Legend at 0x7f68031f1e80>"
      ]
     },
     "execution_count": 5,
     "metadata": {},
     "output_type": "execute_result"
    },
    {
     "data": {
      "image/png": "[encoded data removed]",
      "text/plain": [
       "<Figure size 432x288 with 1 Axes>"
      ]
     },
     "metadata": {
      "needs_background": "light"
     },
     "output_type": "display_data"
    }
   ],
   "source": [
    "grid, num_images  = get_num_images(N_total, inv_T)\n",
    "\n",
    "true_fe = -np.log(num_images)\n",
    "true_fe -= np.min(true_fe)\n",
    "\n",
    "\n",
    "bfi = black_fe - np.min(black_fe)\n",
    "true_black_fe = true_fe[black[:, 0].astype('int'), black[:, 1].astype('int')]\n",
    "\n",
    "fig, ax = plt.subplots(1)\n",
    "ax.plot(true_black_fe, label='True', color='k', linestyle=':')\n",
    "ax.plot(bfi, label='Predicted', color='k')\n",
    "ax.set_xlabel('String index')\n",
    "ax.set_ylabel('Free Energy')\n",
    "ax.legend()"
   ]
  },
  {
   "cell_type": "code",
   "execution_count": null,
   "id": "c1bf265d",
   "metadata": {},
   "outputs": [],
   "source": []
  }
 ],
 "metadata": {
  "kernelspec": {
   "display_name": "Python 3 (ipykernel)",
   "language": "python",
   "name": "python3"
  },
  "language_info": {
   "codemirror_mode": {
    "name": "ipython",
    "version": 3
   },
   "file_extension": ".py",
   "mimetype": "text/x-python",
   "name": "python",
   "nbconvert_exporter": "python",
   "pygments_lexer": "ipython3",
   "version": "3.9.2"
  }
 },
 "nbformat": 4,
 "nbformat_minor": 5
}
