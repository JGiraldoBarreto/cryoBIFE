{
 "cells": [
  {
   "cell_type": "code",
   "execution_count": 18,
   "id": "3b4b1121",
   "metadata": {},
   "outputs": [],
   "source": [
    "import numpy as np\n",
    "import torch\n",
    "from torch import optim\n",
    "import matplotlib.pyplot as plt\n",
    "import scipy.optimize as so\n",
    "from cryoBIFE import neglogpost_cryobife, neglogpost_cryobife_pytorch, normal_prior\n",
    "from cryoBIFE.Generate_Gaussian_Images_Toymodel import sample_grid_data, get_num_images\n",
    "from tqdm import tqdm"
   ]
  },
  {
   "cell_type": "code",
   "execution_count": 19,
   "id": "0e948024",
   "metadata": {},
   "outputs": [],
   "source": [
    "def get_optimal_string_fe(posterior_matrix, log_prior_fxn, kappa=1.0):\n",
    "    number_of_nodes = posterior_matrix.shape[1]\n",
    "    G_init = 2.0 * np.random.randn(number_of_nodes)  # Initial free energy differences\n",
    "    G_op = so.minimize(neglogpost_cryobife, G_init, method='L-BFGS-B', args=(kappa, posterior_matrix, log_prior_fxn))\n",
    "#     assert(G_op.success)\n",
    "    optimal_string_fe = G_op.x\n",
    "    optimal_logpost = -1 * G_op.fun\n",
    "    return optimal_string_fe, optimal_logpost\n",
    "\n",
    "\n",
    "def get_optimal_string_fe_pytorch(posterior_matrix, x_init=None, kappa=1.0, num_iter = 10000, \n",
    "                                  lr=1e-3, print_freq=1000):\n",
    "    number_of_nodes = posterior_matrix.shape[1]\n",
    "    if x_init is None:\n",
    "        x_init = 0.1* torch.randn(number_of_nodes)  # Initial free energy differences\n",
    "    x  = torch.clone(x_init)\n",
    "    x.requires_grad_()\n",
    "    optimizer = optim.SGD([x], lr=lr)\n",
    "    \n",
    "    for i in range(num_iter):\n",
    "        optimizer.zero_grad()\n",
    "        output = neglogpost_cryobife_pytorch(x, kappa, posterior_matrix)\n",
    "        output.backward()\n",
    "        optimizer.step()\n",
    "        if i % print_freq == 0:\n",
    "            print(i, output)\n",
    "    \n",
    "    optimal_logpost = -1 * x\n",
    "    output = neglogpost_cryobife_pytorch(x, kappa, posterior_matrix)\n",
    "    output.backward()\n",
    "    print(x.grad)\n",
    "    \n",
    "    return x.detach(), optimal_logpost\n",
    "\n",
    "\n",
    "\n",
    "def histogram_raw_data(coords):\n",
    "    y = coords[:, 0]\n",
    "    x = coords[:, 1]\n",
    "    print(np.min(x), np.max(x))\n",
    "    print(np.min(y), np.max(y))\n",
    "\n",
    "    hist, xedges, yedges = np.histogram2d(x, y, bins=100, range=((-5, 25), (-5, 25)))\n",
    "\n",
    "    plt.imshow(hist.T, interpolation='nearest', origin='lower',\n",
    "               extent=[xedges[0], xedges[-1], yedges[0], yedges[-1]])\n",
    "\n",
    "    plt.show()"
   ]
  },
  {
   "cell_type": "code",
   "execution_count": 20,
   "id": "3e87b367",
   "metadata": {},
   "outputs": [],
   "source": [
    "kappa = 0.0\n",
    "dT = 1."
   ]
  },
  {
   "cell_type": "code",
   "execution_count": 21,
   "id": "b329462e",
   "metadata": {},
   "outputs": [],
   "source": [
    "black_logposts = []\n",
    "orange_logposts = []\n",
    "\n",
    "black_fes = []\n",
    "orange_fes = []\n",
    "\n",
    "N_total = 10000\n",
    "\n",
    "inv_T = 1.\n",
    "grid_info, black_info, orange_info = sample_grid_data(inverse_T=inv_T, N_total = N_total, sigma=1.0)"
   ]
  },
  {
   "cell_type": "code",
   "execution_count": 22,
   "id": "5bdef3b4",
   "metadata": {},
   "outputs": [
    {
     "name": "stdout",
     "output_type": "stream",
     "text": [
      "-94409.15429669988\n"
     ]
    }
   ],
   "source": [
    "coords, Grid, Num_images = grid_info\n",
    "#     print(len(coords))\n",
    "black, Post_Matrix_black = black_info\n",
    "#     orange, Post_Matrix_orange = orange_info\n",
    "black_fe, black_logpost = get_optimal_string_fe(Post_Matrix_black, normal_prior, kappa=kappa)\n",
    "black_fe = torch.from_numpy(black_fe).float()\n",
    "print(black_logpost)"
   ]
  },
  {
   "cell_type": "code",
   "execution_count": 23,
   "id": "6c69a485",
   "metadata": {},
   "outputs": [
    {
     "name": "stdout",
     "output_type": "stream",
     "text": [
      "0 tensor(94409.1641, grad_fn=<NegBackward>)\n",
      "1000 tensor(nan, grad_fn=<NegBackward>)\n",
      "2000 tensor(nan, grad_fn=<NegBackward>)\n",
      "3000 tensor(nan, grad_fn=<NegBackward>)\n",
      "4000 tensor(nan, grad_fn=<NegBackward>)\n",
      "5000 tensor(nan, grad_fn=<NegBackward>)\n",
      "6000 tensor(nan, grad_fn=<NegBackward>)\n",
      "7000 tensor(nan, grad_fn=<NegBackward>)\n",
      "8000 tensor(nan, grad_fn=<NegBackward>)\n",
      "9000 tensor(nan, grad_fn=<NegBackward>)\n",
      "tensor([nan, nan, nan, nan, nan, nan, nan, nan, nan, nan, nan, nan, nan, nan])\n",
      "tensor([nan, nan, nan, nan, nan, nan, nan, nan, nan, nan, nan, nan, nan, nan],\n",
      "       grad_fn=<MulBackward0>)\n"
     ]
    }
   ],
   "source": [
    "# Further optimize using pytorch... around 80% of sampled grids\n",
    "# I immediately get NaN and I don't know why.\n",
    "black_fe, black_logpost = get_optimal_string_fe_pytorch(torch.from_numpy(Post_Matrix_black).float(), \n",
    "                                                        x_init = black_fe,\n",
    "                                                        kappa=kappa,\n",
    "                                                        lr=1e-3)\n",
    "black_logposts.append(black_logpost)\n",
    "black_fes.append(black_fe)\n",
    "print(black_logpost)"
   ]
  },
  {
   "cell_type": "code",
   "execution_count": null,
   "id": "c1bf265d",
   "metadata": {},
   "outputs": [],
   "source": []
  }
 ],
 "metadata": {
  "kernelspec": {
   "display_name": "Python 3 (ipykernel)",
   "language": "python",
   "name": "python3"
  },
  "language_info": {
   "codemirror_mode": {
    "name": "ipython",
    "version": 3
   },
   "file_extension": ".py",
   "mimetype": "text/x-python",
   "name": "python",
   "nbconvert_exporter": "python",
   "pygments_lexer": "ipython3",
   "version": "3.9.2"
  }
 },
 "nbformat": 4,
 "nbformat_minor": 5
}
